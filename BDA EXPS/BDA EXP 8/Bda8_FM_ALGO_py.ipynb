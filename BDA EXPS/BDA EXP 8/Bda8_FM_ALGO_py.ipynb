{
  "nbformat": 4,
  "nbformat_minor": 0,
  "metadata": {
    "colab": {
      "provenance": []
    },
    "kernelspec": {
      "name": "python3",
      "display_name": "Python 3"
    },
    "language_info": {
      "name": "python"
    }
  },
  "cells": [
    {
      "cell_type": "markdown",
      "source": [
        "PAREENITA A.SHIRSATH B.E.A.I.&.D.S. ROLL.NO : 57\n",
        "\n",
        "BDA EXPERIMENT NO : 08\n",
        "\n",
        "Flajolet-Martin (FM) Algorithm"
      ],
      "metadata": {
        "id": "3-IYIUPIv8Ba"
      }
    },
    {
      "cell_type": "code",
      "execution_count": null,
      "metadata": {
        "colab": {
          "base_uri": "https://localhost:8080/"
        },
        "id": "8BzjTebpv2Zp",
        "outputId": "8bf6e0d7-880b-4b01-ea9a-6e4d730d5d05"
      },
      "outputs": [
        {
          "output_type": "stream",
          "name": "stdout",
          "text": [
            "Estimated number of distinct elements: 8\n"
          ]
        }
      ],
      "source": [
        "import random\n",
        "import math\n",
        "\n",
        "def trailing_zeros(x):\n",
        "    \"\"\" Counting number of trailing zeros\n",
        "    in the binary representation of x.\"\"\"\n",
        "    if x == 0:\n",
        "        return 1\n",
        "    count = 0\n",
        "    while x & 1 == 0:\n",
        "        count += 1\n",
        "        x >>= 1\n",
        "    return count\n",
        "\n",
        "def flajolet_martin(dataset, k):\n",
        "    \"\"\"Number of distinct elements using\n",
        "    the Flajolet-Martin Algorithm.\"\"\"\n",
        "    max_zeros= 0\n",
        "    for i in range(k):\n",
        "        hash_vals = [trailing_zeros(random.choice(dataset))\n",
        "                     for _ in range(len(dataset))]\n",
        "        max_zeros = max(max_zeros, max(hash_vals))\n",
        "\n",
        "    return 2 ** max_zeros\n",
        "\n",
        "# Example\n",
        "dataset = [1, 2, 3, 4, 5, 6, 7, 8, 9, 10]\n",
        "dist_num = flajolet_martin(dataset, 10)\n",
        "print(\"Estimated number of distinct elements:\", dist_num)"
      ]
    },
    {
      "cell_type": "code",
      "source": [
        "import random\n",
        "import hashlib\n",
        "\n",
        "def hash_function(x, a, b, c):\n",
        "    \"\"\"Simple custom hash function.\"\"\"\n",
        "    hash_val = (a * hash(x) + b) % c\n",
        "    return hash_val\n",
        "\n",
        "def trailing_zeros(n):\n",
        "    \"\"\"Count number of trailing zeros in binary representation.\"\"\"\n",
        "    if n == 0:\n",
        "        return 32  # large number if all zeros\n",
        "    count = 0\n",
        "    while (n & 1) == 0:\n",
        "        n >>= 1\n",
        "        count += 1\n",
        "    return count\n",
        "\n",
        "def flajolet_martin(stream, num_hash):\n",
        "    print(f\"Enter the space-separated values of a, b and c for {num_hash} hash functions:\")\n",
        "    hash_params = []\n",
        "    for i in range(num_hash):\n",
        "        a, b, c = map(int, input(f\"Hash {i+1}: \").split())\n",
        "        hash_params.append((a, b, c))\n",
        "\n",
        "    max_trailing = [0] * num_hash\n",
        "\n",
        "    for val in stream:\n",
        "        for i, (a, b, c) in enumerate(hash_params):\n",
        "            hv = hash_function(val, a, b, c)\n",
        "            zeros = trailing_zeros(hv)\n",
        "            max_trailing[i] = max(max_trailing[i], zeros)\n",
        "\n",
        "    estimates = [2 ** r for r in max_trailing]\n",
        "    avg_estimate = sum(estimates) / len(estimates)\n",
        "\n",
        "    print(f\"\\nCounts for each hash: {estimates}\")\n",
        "    print(f\"Average (Estimated distinct elements): {avg_estimate:.2f}\")\n",
        "\n",
        "\n",
        "# ----------- MAIN PROGRAM -----------\n",
        "if __name__ == \"__main__\":\n",
        "    n = int(input(\"Enter number of elements in the stream: \"))\n",
        "    print(\"Enter the elements (space-separated):\")\n",
        "    data_stream = input().split()\n",
        "\n",
        "    num_hash = int(input(\"Enter the number of hash functions: \"))\n",
        "    flajolet_martin(data_stream, num_hash)\n"
      ],
      "metadata": {
        "colab": {
          "base_uri": "https://localhost:8080/"
        },
        "id": "7D9UnIMPxaKV",
        "outputId": "0a85ae0a-7281-41f0-b44f-fd67ba60fadd"
      },
      "execution_count": null,
      "outputs": [
        {
          "output_type": "stream",
          "name": "stdout",
          "text": [
            "Enter number of elements in the stream: 10 \n",
            "Enter the elements (space-separated):\n",
            "a b c a d  e f g h i\n",
            "Enter the number of hash functions: 5\n",
            "Enter the space-separated values of a, b and c for 5 hash functions:\n",
            "Hash 1: 1 4 3\n",
            "Hash 2: 2 6 7 \n",
            "Hash 3: 1 8 2\n",
            "Hash 4: 3 4 7\n",
            "Hash 5: 6 5 1\n",
            "\n",
            "Counts for each hash: [4294967296, 4294967296, 4294967296, 4, 4294967296]\n",
            "Average (Estimated distinct elements): 3435973837.60\n"
          ]
        }
      ]
    }
  ]
}