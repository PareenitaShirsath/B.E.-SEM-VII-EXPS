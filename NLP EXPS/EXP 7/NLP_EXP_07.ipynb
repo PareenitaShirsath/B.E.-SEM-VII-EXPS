{
  "nbformat": 4,
  "nbformat_minor": 0,
  "metadata": {
    "colab": {
      "provenance": []
    },
    "kernelspec": {
      "name": "python3",
      "display_name": "Python 3"
    },
    "language_info": {
      "name": "python"
    }
  },
  "cells": [
    {
      "cell_type": "markdown",
      "source": [
        "NAME : PAREENITA A.SHIRSATH B.E.A.I.&.D.S. ROLL.NO : 57\n",
        "\n",
        "NLP EXPERIMENT NO : 07"
      ],
      "metadata": {
        "id": "tJD8DPzMEivk"
      }
    },
    {
      "cell_type": "code",
      "source": [
        "pip install nltk\n"
      ],
      "metadata": {
        "colab": {
          "base_uri": "https://localhost:8080/",
          "height": 0
        },
        "id": "onOr-SJsIlwT",
        "outputId": "4b0cfe40-3abc-4826-a54e-73e70bbfd973"
      },
      "execution_count": 5,
      "outputs": [
        {
          "output_type": "stream",
          "name": "stdout",
          "text": [
            "Requirement already satisfied: nltk in /usr/local/lib/python3.12/dist-packages (3.9.1)\n",
            "Requirement already satisfied: click in /usr/local/lib/python3.12/dist-packages (from nltk) (8.2.1)\n",
            "Requirement already satisfied: joblib in /usr/local/lib/python3.12/dist-packages (from nltk) (1.5.2)\n",
            "Requirement already satisfied: regex>=2021.8.3 in /usr/local/lib/python3.12/dist-packages (from nltk) (2024.11.6)\n",
            "Requirement already satisfied: tqdm in /usr/local/lib/python3.12/dist-packages (from nltk) (4.67.1)\n"
          ]
        }
      ]
    },
    {
      "cell_type": "code",
      "source": [
        "import nltk\n",
        "from nltk import word_tokenize, pos_tag, ne_chunk\n",
        "from nltk.chunk import RegexpParser\n",
        "from nltk.tree import Tree\n",
        "\n",
        "nltk.download('punkt')\n",
        "nltk.download('averaged_perceptron_tagger')\n",
        "nltk.download('punkt_tab') # Added this line to download the missing resource\n",
        "nltk.download('averaged_perceptron_tagger_eng') # Added this line to download the missing resource"
      ],
      "metadata": {
        "colab": {
          "base_uri": "https://localhost:8080/",
          "height": 0
        },
        "id": "FWbmaiY9IlzT",
        "outputId": "4d2f0fa3-b69c-4d66-ed24-e47340cfcdba"
      },
      "execution_count": 13,
      "outputs": [
        {
          "output_type": "stream",
          "name": "stderr",
          "text": [
            "[nltk_data] Downloading package punkt to /root/nltk_data...\n",
            "[nltk_data]   Package punkt is already up-to-date!\n",
            "[nltk_data] Downloading package averaged_perceptron_tagger to\n",
            "[nltk_data]     /root/nltk_data...\n",
            "[nltk_data]   Package averaged_perceptron_tagger is already up-to-\n",
            "[nltk_data]       date!\n",
            "[nltk_data] Downloading package punkt_tab to /root/nltk_data...\n",
            "[nltk_data]   Package punkt_tab is already up-to-date!\n",
            "[nltk_data] Downloading package averaged_perceptron_tagger_eng to\n",
            "[nltk_data]     /root/nltk_data...\n",
            "[nltk_data]   Unzipping taggers/averaged_perceptron_tagger_eng.zip.\n"
          ]
        },
        {
          "output_type": "execute_result",
          "data": {
            "text/plain": [
              "True"
            ]
          },
          "metadata": {},
          "execution_count": 13
        }
      ]
    },
    {
      "cell_type": "code",
      "source": [
        "text = \"\"\"\n",
        "Suddenly, the young boy ran quickly through the narrow alley, shouting with excitement.\n",
        "He had been searching for his lost dog since morning, but he had not expected to find it so soon.\n",
        "\"Wow! There you are!\" he exclaimed, as the brown puppy, wagging its tail, leaped into his arms.\n",
        "To find the dog was a relief, but he still needed to explain everything clearly to his mother,\n",
        "who had been worrying all day. Although he was tired, he decided to walk home instead of calling a taxi,\n",
        "because the weather was pleasant and the sun was setting beautifully.\n",
        "By walking, he hoped to calm his nerves and reflect on the day’s adventure.\n",
        "\"\"\"\n",
        "\n",
        "# Sentence Tokenization\n",
        "sentences = nltk.sent_tokenize(text)\n"
      ],
      "metadata": {
        "id": "_Nfvme9bIl1j"
      },
      "execution_count": 9,
      "outputs": []
    },
    {
      "cell_type": "code",
      "source": [
        "chunk_grammar = r\"\"\"\n",
        "    NP: {<DT>?<JJ>*<NN.*>}    # Chunk determiners, adjectives and noun\n",
        "    VP: {<VB.*><NP|PP|CLAUSE>+$}  # Chunk verbs and their arguments\n",
        "\"\"\"\n",
        "\n",
        "chunk_parser = RegexpParser(chunk_grammar)\n"
      ],
      "metadata": {
        "id": "Dx770q-iI54c"
      },
      "execution_count": 11,
      "outputs": []
    },
    {
      "cell_type": "code",
      "source": [
        "import nltk\n",
        "from nltk import word_tokenize, pos_tag\n",
        "\n",
        "nltk.download('punkt')\n",
        "nltk.download('averaged_perceptron_tagger')\n",
        "\n",
        "# Your paragraph\n",
        "text = \"\"\"\n",
        "Suddenly, the young boy ran quickly through the narrow alley, shouting with excitement.\n",
        "He had been searching for his lost dog since morning, but he had not expected to find it so soon.\n",
        "\"Wow! There you are!\" he exclaimed, as the brown puppy, wagging its tail, leaped into his arms.\n",
        "To find the dog was a relief, but he still needed to explain everything clearly to his mother,\n",
        "who had been worrying all day. Although he was tired, he decided to walk home instead of calling a taxi,\n",
        "because the weather was pleasant and the sun was setting beautifully.\n",
        "By walking, he hoped to calm his nerves and reflect on the day’s adventure.\n",
        "\"\"\"\n",
        "\n",
        "# Tokenize and POS-tag\n",
        "tokens = word_tokenize(text)\n",
        "tagged = pos_tag(tokens)\n",
        "\n",
        "# Print results as a table\n",
        "print(\"{:<15} {:<10}\".format(\"Word\", \"POS Tag\"))\n",
        "print(\"-\" * 30)\n",
        "for word, tag in tagged:\n",
        "    print(\"{:<15} {:<10}\".format(word, tag))\n"
      ],
      "metadata": {
        "colab": {
          "base_uri": "https://localhost:8080/",
          "height": 0
        },
        "id": "deM3CP_jJp38",
        "outputId": "1ede5473-46f9-4bcc-c13a-d97f77a3dbac"
      },
      "execution_count": 16,
      "outputs": [
        {
          "output_type": "stream",
          "name": "stdout",
          "text": [
            "Word            POS Tag   \n",
            "------------------------------\n",
            "Suddenly        RB        \n",
            ",               ,         \n",
            "the             DT        \n",
            "young           JJ        \n",
            "boy             NN        \n",
            "ran             VBD       \n",
            "quickly         RB        \n",
            "through         IN        \n",
            "the             DT        \n",
            "narrow          JJ        \n",
            "alley           NN        \n",
            ",               ,         \n",
            "shouting        VBG       \n",
            "with            IN        \n",
            "excitement      NN        \n",
            ".               .         \n",
            "He              PRP       \n",
            "had             VBD       \n",
            "been            VBN       \n",
            "searching       VBG       \n",
            "for             IN        \n",
            "his             PRP$      \n",
            "lost            VBN       \n",
            "dog             NN        \n",
            "since           IN        \n",
            "morning         NN        \n",
            ",               ,         \n",
            "but             CC        \n",
            "he              PRP       \n",
            "had             VBD       \n",
            "not             RB        \n",
            "expected        VBN       \n",
            "to              TO        \n",
            "find            VB        \n",
            "it              PRP       \n",
            "so              RB        \n",
            "soon            RB        \n",
            ".               .         \n",
            "``              ``        \n",
            "Wow             JJ        \n",
            "!               .         \n",
            "There           EX        \n",
            "you             PRP       \n",
            "are             VBP       \n",
            "!               .         \n",
            "''              ''        \n",
            "he              PRP       \n",
            "exclaimed       VBD       \n",
            ",               ,         \n",
            "as              IN        \n",
            "the             DT        \n",
            "brown           NN        \n",
            "puppy           JJ        \n",
            ",               ,         \n",
            "wagging         VBG       \n",
            "its             PRP$      \n",
            "tail            NN        \n",
            ",               ,         \n",
            "leaped          VBD       \n",
            "into            IN        \n",
            "his             PRP$      \n",
            "arms            NNS       \n",
            ".               .         \n",
            "To              TO        \n",
            "find            VB        \n",
            "the             DT        \n",
            "dog             NN        \n",
            "was             VBD       \n",
            "a               DT        \n",
            "relief          NN        \n",
            ",               ,         \n",
            "but             CC        \n",
            "he              PRP       \n",
            "still           RB        \n",
            "needed          VBD       \n",
            "to              TO        \n",
            "explain         VB        \n",
            "everything      NN        \n",
            "clearly         RB        \n",
            "to              TO        \n",
            "his             PRP$      \n",
            "mother          NN        \n",
            ",               ,         \n",
            "who             WP        \n",
            "had             VBD       \n",
            "been            VBN       \n",
            "worrying        VBG       \n",
            "all             DT        \n",
            "day             NN        \n",
            ".               .         \n",
            "Although        IN        \n",
            "he              PRP       \n",
            "was             VBD       \n",
            "tired           VBN       \n",
            ",               ,         \n",
            "he              PRP       \n",
            "decided         VBD       \n",
            "to              TO        \n",
            "walk            VB        \n",
            "home            NN        \n",
            "instead         RB        \n",
            "of              IN        \n",
            "calling         VBG       \n",
            "a               DT        \n",
            "taxi            NN        \n",
            ",               ,         \n",
            "because         IN        \n",
            "the             DT        \n",
            "weather         NN        \n",
            "was             VBD       \n",
            "pleasant        JJ        \n",
            "and             CC        \n",
            "the             DT        \n",
            "sun             NN        \n",
            "was             VBD       \n",
            "setting         VBG       \n",
            "beautifully     RB        \n",
            ".               .         \n",
            "By              IN        \n",
            "walking         VBG       \n",
            ",               ,         \n",
            "he              PRP       \n",
            "hoped           VBD       \n",
            "to              TO        \n",
            "calm            VB        \n",
            "his             PRP$      \n",
            "nerves          NNS       \n",
            "and             CC        \n",
            "reflect         VBP       \n",
            "on              IN        \n",
            "the             DT        \n",
            "day             NN        \n",
            "’               NNP       \n",
            "s               NN        \n",
            "adventure       NN        \n",
            ".               .         \n"
          ]
        },
        {
          "output_type": "stream",
          "name": "stderr",
          "text": [
            "[nltk_data] Downloading package punkt to /root/nltk_data...\n",
            "[nltk_data]   Package punkt is already up-to-date!\n",
            "[nltk_data] Downloading package averaged_perceptron_tagger to\n",
            "[nltk_data]     /root/nltk_data...\n",
            "[nltk_data]   Package averaged_perceptron_tagger is already up-to-\n",
            "[nltk_data]       date!\n"
          ]
        }
      ]
    }
  ]
}