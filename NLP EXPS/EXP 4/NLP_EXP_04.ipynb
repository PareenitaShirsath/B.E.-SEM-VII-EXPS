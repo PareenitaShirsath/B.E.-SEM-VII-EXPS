{
  "nbformat": 4,
  "nbformat_minor": 0,
  "metadata": {
    "colab": {
      "provenance": []
    },
    "kernelspec": {
      "name": "python3",
      "display_name": "Python 3"
    },
    "language_info": {
      "name": "python"
    }
  },
  "cells": [
    {
      "cell_type": "markdown",
      "source": [
        "NAME : PAREENITA A.SHIRSATH  B.E.A.I.&.D.S.  ROLL.NO : 57\n",
        "\n",
        "PRN : 221101062\n",
        "\n",
        "NLP EXPERIMENT NO : 04"
      ],
      "metadata": {
        "id": "ijR2S9yuXcA8"
      }
    },
    {
      "cell_type": "code",
      "source": [
        "import nltk\n",
        "import spacy\n",
        "from nltk.tokenize import word_tokenize\n",
        "from nltk.corpus import wordnet as wn"
      ],
      "metadata": {
        "id": "2ef5ZqUPXbQV"
      },
      "execution_count": 17,
      "outputs": []
    },
    {
      "cell_type": "code",
      "source": [
        "nltk.download('punkt')\n",
        "nltk.download('wordnet')\n",
        "nltk.download('punkt_tab')"
      ],
      "metadata": {
        "colab": {
          "base_uri": "https://localhost:8080/",
          "height": 0
        },
        "id": "QHYvY4QwXbU2",
        "outputId": "4872349f-4611-44c7-9be7-c17b4808bdf9"
      },
      "execution_count": 22,
      "outputs": [
        {
          "output_type": "stream",
          "name": "stderr",
          "text": [
            "[nltk_data] Downloading package punkt to /root/nltk_data...\n",
            "[nltk_data]   Package punkt is already up-to-date!\n",
            "[nltk_data] Downloading package wordnet to /root/nltk_data...\n",
            "[nltk_data]   Package wordnet is already up-to-date!\n",
            "[nltk_data] Downloading package punkt_tab to /root/nltk_data...\n",
            "[nltk_data]   Unzipping tokenizers/punkt_tab.zip.\n"
          ]
        },
        {
          "output_type": "execute_result",
          "data": {
            "text/plain": [
              "True"
            ]
          },
          "metadata": {},
          "execution_count": 22
        }
      ]
    },
    {
      "cell_type": "code",
      "source": [
        "nlp = spacy.load(\"en_core_web_sm\")"
      ],
      "metadata": {
        "id": "cGmMinDIXbYj"
      },
      "execution_count": 19,
      "outputs": []
    },
    {
      "cell_type": "code",
      "source": [
        "def analyze_word_nltk(word):\n",
        "    \"\"\"Perform basic morphological analysis using NLTK.\"\"\"\n",
        "    synsets = wn.synsets(word)\n",
        "    analysis = []\n",
        "    for synset in synsets:\n",
        "        analysis.append({\n",
        "            'synset': synset.name(),\n",
        "            'definition': synset.definition(),\n",
        "            'examples': synset.examples()\n",
        "        })\n",
        "    return analysis\n",
        "\n",
        "def generate_words(root):\n",
        "    \"\"\"Generate new words by adding common suffixes.\"\"\"\n",
        "    suffixes = ['able', 'er', 'ing', 'ed', 'ly', 's', 'es']\n",
        "    return [root + suffix for suffix in suffixes]\n",
        "\n",
        "def analyze_text_spacy(text):\n",
        "    \"\"\"Perform advanced morphological analysis using spaCy.\"\"\"\n",
        "    doc = nlp(text)\n",
        "    analysis = []\n",
        "    for token in doc:\n",
        "        analysis.append({\n",
        "            'word': token.text,\n",
        "            'lemma': token.lemma_,\n",
        "            'POS': token.pos_,\n",
        "            'tag': token.tag_,\n",
        "            'dep': token.dep_\n",
        "        })\n",
        "    return analysis"
      ],
      "metadata": {
        "id": "CKHS3RP5XufG"
      },
      "execution_count": 20,
      "outputs": []
    },
    {
      "cell_type": "code",
      "source": [
        "def main():\n",
        "    text = \"Indian Railways\"\n",
        "\n",
        "    words = word_tokenize(text)\n",
        "\n",
        "    print(\"Morphological Analysis using NLTK:\\n\")\n",
        "    for word in words:\n",
        "        print(f\"Analysis for '{word}':\")\n",
        "        analysis_nltk = analyze_word_nltk(word)\n",
        "        for entry in analysis_nltk:\n",
        "            print(f\"  Synset: {entry['synset']}\")\n",
        "            print(f\"  Definition: {entry['definition']}\")\n",
        "            print(f\"  Examples: {entry['examples']}\")\n",
        "        print()\n",
        "\n",
        "    print(\"Word Generation:\\n\")\n",
        "    root_word = \"play\"\n",
        "    new_words = generate_words(root_word)\n",
        "    print(f\"Generated words based on '{root_word}': {new_words}\")\n",
        "    print()\n",
        "\n",
        "    print(\"Morphological Analysis using spaCy:\\n\")\n",
        "    analysis_spacy = analyze_text_spacy(text)\n",
        "    for entry in analysis_spacy:\n",
        "        print(f\"Word: {entry['word']}\")\n",
        "        print(f\"  Lemma: {entry['lemma']}\")\n",
        "        print(f\"  POS: {entry['POS']}\")\n",
        "        print(f\"  Tag: {entry['tag']}\")\n",
        "        print(f\"  Dep: {entry['dep']}\")\n",
        "        print()\n",
        "\n",
        "if __name__ == \"__main__\":\n",
        "    main()"
      ],
      "metadata": {
        "colab": {
          "base_uri": "https://localhost:8080/",
          "height": 0
        },
        "id": "OiXCg9F2Xuk7",
        "outputId": "2d0f5211-b265-4d7f-924f-94e80fd72c05"
      },
      "execution_count": 23,
      "outputs": [
        {
          "output_type": "stream",
          "name": "stdout",
          "text": [
            "Morphological Analysis using NLTK:\n",
            "\n",
            "Analysis for 'Indian':\n",
            "  Synset: indian.n.01\n",
            "  Definition: a member of the race of people living in America when Europeans arrived\n",
            "  Examples: []\n",
            "  Synset: indian.n.02\n",
            "  Definition: a native or inhabitant of India\n",
            "  Examples: []\n",
            "  Synset: amerind.n.01\n",
            "  Definition: any of the languages spoken by Amerindians\n",
            "  Examples: []\n",
            "  Synset: indian.a.01\n",
            "  Definition: of or relating to or characteristic of India or the East Indies or their peoples or languages or cultures\n",
            "  Examples: ['the Indian subcontinent', 'Indian saris']\n",
            "  Synset: indian.a.02\n",
            "  Definition: of or pertaining to American Indians or their culture or languages\n",
            "  Examples: ['Native American religions', 'Indian arrowheads']\n",
            "\n",
            "Analysis for 'Railways':\n",
            "  Synset: railway.n.01\n",
            "  Definition: line that is the commercial organization responsible for operating a system of transportation for trains that pull passengers or freight\n",
            "  Examples: []\n",
            "  Synset: railroad_track.n.01\n",
            "  Definition: a line of track providing a runway for wheels\n",
            "  Examples: ['he walked along the railroad track']\n",
            "\n",
            "Word Generation:\n",
            "\n",
            "Generated words based on 'play': ['playable', 'player', 'playing', 'played', 'playly', 'plays', 'playes']\n",
            "\n",
            "Morphological Analysis using spaCy:\n",
            "\n",
            "Word: Indian\n",
            "  Lemma: Indian\n",
            "  POS: PROPN\n",
            "  Tag: NNP\n",
            "  Dep: compound\n",
            "\n",
            "Word: Railways\n",
            "  Lemma: Railways\n",
            "  POS: PROPN\n",
            "  Tag: NNPS\n",
            "  Dep: ROOT\n",
            "\n"
          ]
        }
      ]
    }
  ]
}