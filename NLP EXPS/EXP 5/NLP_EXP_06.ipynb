{
  "nbformat": 4,
  "nbformat_minor": 0,
  "metadata": {
    "colab": {
      "provenance": []
    },
    "kernelspec": {
      "name": "python3",
      "display_name": "Python 3"
    },
    "language_info": {
      "name": "python"
    }
  },
  "cells": [
    {
      "cell_type": "markdown",
      "source": [
        "NAME : PAREENITA A.SHIRSATH     PRN : 221101062  ROLL.NO : 57   B.E.A.I.&.D.S.\n",
        "\n",
        "\n",
        "NLP EXPERIMENT NO : 06"
      ],
      "metadata": {
        "id": "Ell8I5ZhMtHd"
      }
    },
    {
      "cell_type": "code",
      "source": [
        "import pandas as pd\n",
        "import re\n",
        "from collections import defaultdict\n",
        "\n",
        "# Load dataset\n",
        "df = pd.read_csv(\"ngram_dataset.csv\")\n",
        "sentences = df[\"sentence\"].tolist()\n",
        "\n",
        "def tokenize_text(text):\n",
        "    text = re.sub(r'[^\\\\w\\\\s]', '', text)  # Remove punctuation\n",
        "    return text.split()\n",
        "\n",
        "def build_ngram_model(sentences, n):\n",
        "    model = defaultdict(lambda: defaultdict(int))\n",
        "    for sentence in sentences:\n",
        "        tokens = tokenize_text(sentence)\n",
        "        for i in range(len(tokens) - n + 1):\n",
        "            context = tuple(tokens[i:i + n - 1])\n",
        "            next_word = tokens[i + n - 1]\n",
        "            model[context][next_word] += 1\n",
        "    return model\n",
        "\n",
        "def predict_next_word(model, context):\n",
        "    if context not in model:\n",
        "        return \"unknown\"\n",
        "    next_words = model[context]\n",
        "    return max(next_words, key=next_words.get)\n",
        "\n",
        "# Build bigram model\n",
        "n = 2\n",
        "model = build_ngram_model(sentences, n)\n",
        "\n",
        "# Test predictions\n",
        "contexts = [\n",
        "    (\"The\",),\n",
        "    (\"The\", \"sun\"),\n",
        "    (\"The\", \"river\"),\n",
        "    (\"The\", \"cat\")\n",
        "]\n",
        "\n",
        "for context in contexts:\n",
        "    print(f\"Context: {context}, Predicted next word: {predict_next_word(model, context)}\")\n"
      ],
      "metadata": {
        "colab": {
          "base_uri": "https://localhost:8080/"
        },
        "id": "ezS-5rUlPNxd",
        "outputId": "face7bec-50a2-4b6e-9e55-4cabf56e8a34"
      },
      "execution_count": 3,
      "outputs": [
        {
          "output_type": "stream",
          "name": "stdout",
          "text": [
            "Context: ('The',), Predicted next word: unknown\n",
            "Context: ('The', 'sun'), Predicted next word: unknown\n",
            "Context: ('The', 'river'), Predicted next word: unknown\n",
            "Context: ('The', 'cat'), Predicted next word: unknown\n"
          ]
        }
      ]
    }
  ]
}