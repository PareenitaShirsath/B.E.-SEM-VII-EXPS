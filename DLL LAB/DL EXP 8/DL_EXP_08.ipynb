{
  "nbformat": 4,
  "nbformat_minor": 0,
  "metadata": {
    "colab": {
      "provenance": []
    },
    "kernelspec": {
      "name": "python3",
      "display_name": "Python 3"
    },
    "language_info": {
      "name": "python"
    }
  },
  "cells": [
    {
      "cell_type": "markdown",
      "source": [
        "PAREENITA A.SHIRSATH  ROLL.NO : 57 B.E.A.I.&.D.S.\n",
        "\n",
        "DL EXPERIMENT NO : 08  "
      ],
      "metadata": {
        "id": "gVLZSxh7L9l9"
      }
    },
    {
      "cell_type": "code",
      "source": [
        "import matplotlib.pyplot as plt\n",
        "import tensorflow as tf\n",
        "import numpy as np\n",
        "mnist = tf.keras.datasets.mnist\n",
        "(x_train, y_train), (x_test, y_test) = mnist.load_data()\n",
        "rows, cols = 28, 28\n",
        "# Reshape the data into a 4D Array\n",
        "x_train = x_train.reshape(x_train.shape[0], rows, cols, 1)\n",
        "x_test = x_test.reshape(x_test.shape[0], rows, cols, 1)\n",
        "input_shape = (rows, cols, 1)\n",
        "# Set type as float32\n",
        "x_train = x_train.astype('float32') / 255.0\n",
        "x_test = x_test.astype('float32') / 255.0\n",
        "# Transform labels to one hot encoding\n",
        "y_train = tf.keras.utils.to_categorical(y_train, 10)\n",
        "def build_lenet(input_shape):\n",
        "    # Define Sequential Model\n",
        "    model = tf.keras.Sequential()\n",
        "    # Convolution Layer\n",
        "    model.add(tf.keras.layers.Conv2D(filters=6, strides=(1, 1), kernel_size=(5, 5),\n",
        "activation='tanh', input_shape=input_shape))\n",
        "    # SubSampling Layer\n",
        "    model.add(tf.keras.layers.AveragePooling2D(pool_size=(2, 2), strides=(2, 2)))\n",
        "    # Convolution Layer\n",
        "    model.add(tf.keras.layers.Conv2D(filters=6, strides=(1, 1), kernel_size=(5, 5),\n",
        "activation='tanh'))\n",
        "    # SubSampling Layer\n",
        "    model.add(tf.keras.layers.AveragePooling2D(pool_size=(2, 2), strides=(2, 2)))\n",
        "    # Flatten the output (Important: Flatten before Dense layers)\n",
        "    model.add(tf.keras.layers.Flatten())\n",
        "    # Fully Connected Layer\n",
        "    model.add(tf.keras.layers.Dense(units=120, activation='tanh'))\n",
        "    # Dense Layers\n",
        "    model.add(tf.keras.layers.Dense(units=84, activation='tanh'))\n",
        "    # Output Layer\n",
        "    model.add(tf.keras.layers.Dense(units=10, activation='softmax'))\n",
        "\n",
        "    return model\n",
        "# Build the model\n",
        "lenet = build_lenet(input_shape)\n",
        "# Compile the model\n",
        "lenet.compile(optimizer='adam', loss='categorical_crossentropy', metrics=['accuracy'])\n",
        "epochs = 10\n",
        "history = lenet.fit(x_train, y_train, epochs=epochs, batch_size=128, verbose=1)\n",
        "# Check Accuracy of the Model\n",
        "if len(y_test.shape) != 2 or y_test.shape[1] != 10:\n",
        "    y_test = tf.keras.utils.to_categorical(y_test, 10)\n",
        "loss, acc = lenet.evaluate(x_test, y_test)\n",
        "print('Accuracy:', acc)\n",
        "# Reshape for plotting\n",
        "x_train_plot = x_train.reshape(x_train.shape[0], 28, 28)\n",
        "x_test_plot = x_test.reshape(x_test.shape[0], 28, 28)\n",
        "print('Training Data:', x_train_plot.shape, y_train.shape)\n",
        "print('Test Data:', x_test_plot.shape, y_test.shape)\n",
        "# Plot the Image\n",
        "image_indices = [8, 4567] # Changed indices to be within bounds\n",
        "for idx in image_indices:\n",
        "    # Plot the image\n",
        "    plt.imshow(x_test_plot[idx], cmap='Greys')\n",
        "    plt.title(f\"Image index: {idx}\")\n",
        "    plt.show()\n",
        "    # Make prediction\n",
        "    pred = lenet.predict(x_test[idx].reshape(1, rows, cols, 1))\n",
        "    print(f'Predicted label for image {idx}:', pred.argmax())"
      ],
      "metadata": {
        "colab": {
          "base_uri": "https://localhost:8080/",
          "height": 1428
        },
        "id": "r4evYLtxP71-",
        "outputId": "b1ae6b6d-82f1-4bc9-f075-e742e1ffd2e2"
      },
      "execution_count": 6,
      "outputs": [
        {
          "output_type": "stream",
          "name": "stderr",
          "text": [
            "/usr/local/lib/python3.12/dist-packages/keras/src/layers/convolutional/base_conv.py:113: UserWarning: Do not pass an `input_shape`/`input_dim` argument to a layer. When using Sequential models, prefer using an `Input(shape)` object as the first layer in the model instead.\n",
            "  super().__init__(activity_regularizer=activity_regularizer, **kwargs)\n"
          ]
        },
        {
          "output_type": "stream",
          "name": "stdout",
          "text": [
            "Epoch 1/10\n",
            "\u001b[1m469/469\u001b[0m \u001b[32m━━━━━━━━━━━━━━━━━━━━\u001b[0m\u001b[37m\u001b[0m \u001b[1m22s\u001b[0m 42ms/step - accuracy: 0.8043 - loss: 0.7092\n",
            "Epoch 2/10\n",
            "\u001b[1m469/469\u001b[0m \u001b[32m━━━━━━━━━━━━━━━━━━━━\u001b[0m\u001b[37m\u001b[0m \u001b[1m21s\u001b[0m 43ms/step - accuracy: 0.9530 - loss: 0.1531\n",
            "Epoch 3/10\n",
            "\u001b[1m469/469\u001b[0m \u001b[32m━━━━━━━━━━━━━━━━━━━━\u001b[0m\u001b[37m\u001b[0m \u001b[1m20s\u001b[0m 41ms/step - accuracy: 0.9708 - loss: 0.0950\n",
            "Epoch 4/10\n",
            "\u001b[1m469/469\u001b[0m \u001b[32m━━━━━━━━━━━━━━━━━━━━\u001b[0m\u001b[37m\u001b[0m \u001b[1m21s\u001b[0m 43ms/step - accuracy: 0.9772 - loss: 0.0759\n",
            "Epoch 5/10\n",
            "\u001b[1m469/469\u001b[0m \u001b[32m━━━━━━━━━━━━━━━━━━━━\u001b[0m\u001b[37m\u001b[0m \u001b[1m19s\u001b[0m 41ms/step - accuracy: 0.9805 - loss: 0.0617\n",
            "Epoch 6/10\n",
            "\u001b[1m469/469\u001b[0m \u001b[32m━━━━━━━━━━━━━━━━━━━━\u001b[0m\u001b[37m\u001b[0m \u001b[1m20s\u001b[0m 42ms/step - accuracy: 0.9841 - loss: 0.0522\n",
            "Epoch 7/10\n",
            "\u001b[1m469/469\u001b[0m \u001b[32m━━━━━━━━━━━━━━━━━━━━\u001b[0m\u001b[37m\u001b[0m \u001b[1m21s\u001b[0m 43ms/step - accuracy: 0.9852 - loss: 0.0465\n",
            "Epoch 8/10\n",
            "\u001b[1m469/469\u001b[0m \u001b[32m━━━━━━━━━━━━━━━━━━━━\u001b[0m\u001b[37m\u001b[0m \u001b[1m19s\u001b[0m 40ms/step - accuracy: 0.9875 - loss: 0.0410\n",
            "Epoch 9/10\n",
            "\u001b[1m469/469\u001b[0m \u001b[32m━━━━━━━━━━━━━━━━━━━━\u001b[0m\u001b[37m\u001b[0m \u001b[1m22s\u001b[0m 43ms/step - accuracy: 0.9893 - loss: 0.0361\n",
            "Epoch 10/10\n",
            "\u001b[1m469/469\u001b[0m \u001b[32m━━━━━━━━━━━━━━━━━━━━\u001b[0m\u001b[37m\u001b[0m \u001b[1m19s\u001b[0m 40ms/step - accuracy: 0.9904 - loss: 0.0310\n",
            "\u001b[1m313/313\u001b[0m \u001b[32m━━━━━━━━━━━━━━━━━━━━\u001b[0m\u001b[37m\u001b[0m \u001b[1m2s\u001b[0m 5ms/step - accuracy: 0.9810 - loss: 0.0542\n",
            "Accuracy: 0.9847999811172485\n",
            "Training Data: (60000, 28, 28) (60000, 10)\n",
            "Test Data: (10000, 28, 28) (10000, 10)\n"
          ]
        },
        {
          "output_type": "display_data",
          "data": {
            "text/plain": [
              "<Figure size 640x480 with 1 Axes>"
            ],
            "image/png": "[encoded data removed]"
          },
          "metadata": {}
        },
        {
          "output_type": "stream",
          "name": "stdout",
          "text": [
            "\u001b[1m1/1\u001b[0m \u001b[32m━━━━━━━━━━━━━━━━━━━━\u001b[0m\u001b[37m\u001b[0m \u001b[1m0s\u001b[0m 87ms/step\n",
            "Predicted label for image 8: 5\n"
          ]
        },
        {
          "output_type": "display_data",
          "data": {
            "text/plain": [
              "<Figure size 640x480 with 1 Axes>"
            ],
            "image/png": "[encoded data removed]"
          },
          "metadata": {}
        },
        {
          "output_type": "stream",
          "name": "stdout",
          "text": [
            "\u001b[1m1/1\u001b[0m \u001b[32m━━━━━━━━━━━━━━━━━━━━\u001b[0m\u001b[37m\u001b[0m \u001b[1m0s\u001b[0m 35ms/step\n",
            "Predicted label for image 4567: 4\n"
          ]
        }
      ]
    }
  ]
}